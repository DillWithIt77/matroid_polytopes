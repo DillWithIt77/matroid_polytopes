{
 "cells": [
  {
   "cell_type": "markdown",
   "id": "af8146ce",
   "metadata": {},
   "source": [
    "# Larger Ground Set Work"
   ]
  },
  {
   "cell_type": "markdown",
   "id": "a2e7ad94",
   "metadata": {},
   "source": [
    "##### Imports"
   ]
  },
  {
   "cell_type": "code",
   "execution_count": 1,
   "id": "b0984c4a",
   "metadata": {},
   "outputs": [],
   "source": [
    "import numpy as np\n",
    "import math\n",
    "import sympy\n",
    "from itertools import product, combinations\n",
    "import itertools\n",
    "import pandas as pd"
   ]
  },
  {
   "cell_type": "markdown",
   "id": "6350ea8b",
   "metadata": {},
   "source": [
    "##### Build Polytope Description"
   ]
  },
  {
   "cell_type": "code",
   "execution_count": 2,
   "id": "0535eeaf",
   "metadata": {},
   "outputs": [],
   "source": [
    "###construct matrix for matroid independent matroid polytope H-rep\n",
    "def construct_B_ind_mat(columns):\n",
    "    #lower bound (orientation stuff)\n",
    "    B = -1*np.identity(columns,dtype = int)\n",
    "\n",
    "    #other subset inequalities (related to rank function)\n",
    "    for k in range(1,columns+1):\n",
    "        x_combs = np.array([np.array([1 if i in comb else 0 for i in range(columns)],dtype = int) for comb in combinations(np.arange(columns), k)],dtype = int)\n",
    "        B = np.concatenate((B,x_combs), axis = 0)\n",
    "\n",
    "    return B;\n",
    "####testing removing lower bounds\n",
    "def construct_B_ind_mat_no_l(columns):\n",
    "    #other subset inequalities (related to rank function)\n",
    "    B = np.zeros(columns,dtype = int)\n",
    "    for k in range(1,columns+1):\n",
    "        x_combs = np.array([np.array([1 if i in comb else 0 for i in range(columns)],dtype = int) for comb in combinations(np.arange(columns), k)],dtype = int)\n",
    "        B = np.concatenate((B,x_combs), axis = 0)\n",
    "\n",
    "    return B;\n",
    "\n",
    "###construct matrix for matroid base matroid polytope H-rep\n",
    "###currently incorrect, so needs some work\n",
    "def construct_B_base_mat(columns):\n",
    "    #lower bound (orientation stuff)\n",
    "    B = -1*np.identity(columns,dtype = int)\n",
    "    \n",
    "    #other subset inequalities (related to rank function)\n",
    "    for k in range(1,columns+1):\n",
    "        x_combs = np.array([np.array([1 if i in comb else 0 for i in range(columns)],dtype = int) for comb in combinations(np.arange(columns), k)],dtype = int)\n",
    "        B = np.concatenate((B,x_combs), axis = 0)\n",
    "\n",
    "    return B;\n",
    "\n",
    "def construct_A_base_mat(columns):\n",
    "    #basis constraint\n",
    "    A = np.ones((1,columns),dtype = int)\n",
    "\n",
    "    return A;"
   ]
  },
  {
   "cell_type": "markdown",
   "id": "221c0ba1",
   "metadata": {},
   "source": [
    "##### Naive Circuit Enumeration"
   ]
  },
  {
   "cell_type": "code",
   "execution_count": 3,
   "id": "477a55af",
   "metadata": {},
   "outputs": [],
   "source": [
    "#####chase's naive alrogithm circuit code (https://github.com/charles-viss/circuits/blob/master/naive_algorithm.py)\n",
    "#naive approach for enumerating C(A,B)\n",
    "#Input: A_eq and B_ineq are (m_a x n) and (m x n) numpy arrays\n",
    "#Output: list of circuits (elementary vectors) in C(A,B) given by n-dimensional numpy arrays\n",
    "def enumerate_circuits(B_ineq, A_eq=None):\n",
    "    circ_data = []\n",
    "    B = sympy.Matrix(B_ineq)\n",
    "    m,n = B.shape\n",
    "    r = 0\n",
    "    if A_eq is not None:\n",
    "        A = sympy.Matrix(A_eq)\n",
    "        A, pivot_columns = A.rref()    #use reduced echelon form of A\n",
    "        r = len(pivot_columns)         #r is the rank of A\n",
    "\n",
    "    circuits = []\n",
    "    pos_circs = []\n",
    "    for I in itertools.combinations(range(m),n-r-1):\n",
    "        data = {}\n",
    "        data['Combination'] = I\n",
    "        B_I = B[I,:]\n",
    "        data['B_I'] = B_I\n",
    "        \n",
    "        if A_eq is not None:\n",
    "            D = A.col_join(B_I)\n",
    "        else:\n",
    "            D = B_I  \n",
    "            \n",
    "        ker_D = D.nullspace()\n",
    "        data['Ker Len'] = len(ker_D)\n",
    "        data['Elementary Vector'] = None\n",
    "        data['Duplicate'] = 0\n",
    "        if len(ker_D) == 1:   #circuit direction is found iff null space of D is one-dimensional\n",
    "            g = np.array(ker_D[0]).flatten()\n",
    "            ###I think the .q implies the matrices need to come in integers/rationals? \n",
    "            ###It got upset when I had a float as an entry\n",
    "            g = g*sympy.lcm([g[i].q for i in range(n) if g[i] != 0]) #normalize to coprime integers\n",
    "            \n",
    "            data['Elementary Vector'] = tuple(g)\n",
    "            g_is_duplicate = False\n",
    "            for y in circuits:\n",
    "                if np.array_equal(y, g):\n",
    "                    g_is_duplicate = True\n",
    "                    data['Duplicate'] = 1\n",
    "            if not g_is_duplicate:\n",
    "                circuits.append(g)\n",
    "                pos_circs.append(g)\n",
    "                circuits.append(-1*g)\n",
    "        circ_data.append(data)\n",
    "                \n",
    "    return (np.array(circuits),np.array(pos_circs),circ_data)"
   ]
  },
  {
   "cell_type": "markdown",
   "id": "76673b04",
   "metadata": {},
   "source": [
    "### Running Examples"
   ]
  },
  {
   "cell_type": "code",
   "execution_count": 4,
   "id": "0b9cdef2",
   "metadata": {},
   "outputs": [],
   "source": [
    "# ###with lower bound inequalities included\n",
    "# arcs = 5\n",
    "# B_mat = construct_B_ind_mat(arcs)\n",
    "# ###all_circs includes the -1*g elementary vectors, while pos_circs are just g\n",
    "# all_circs, pos_circs, circ_dict = enumerate_circuits(B_mat)\n",
    "# circ_df=pd.DataFrame.from_dict(circ_dict)\n",
    "# circ_df.to_csv('elementary_vectors_dataframe_lbi.csv')"
   ]
  },
  {
   "cell_type": "code",
   "execution_count": 6,
   "id": "9912a7bd",
   "metadata": {},
   "outputs": [],
   "source": [
    "###with lower bound inequalities excluded\n",
    "arcs = 4\n",
    "B_mat = construct_B_ind_mat(arcs)\n",
    "###remove lower bound inequalites from matrix\n",
    "B_mat = np.delete(B_mat,range(arcs),axis=0)\n",
    "###all_circs includes the -1*g elementary vectors, while pos_circs are just g\n",
    "all_circs, pos_circs,circ_dict = enumerate_circuits(B_mat)\n",
    "###convert to dataframe\n",
    "circ_df=pd.DataFrame.from_dict(circ_dict)\n",
    "###add group indicator\n",
    "circ_df['Group'] = circ_df.groupby(['Elementary Vector']).ngroup()\n",
    "###save to csv\n",
    "circ_df.to_csv('elementary_vectors_dataframe.csv')"
   ]
  }
 ],
 "metadata": {
  "kernelspec": {
   "display_name": "Python 3 (ipykernel)",
   "language": "python",
   "name": "python3"
  },
  "language_info": {
   "codemirror_mode": {
    "name": "ipython",
    "version": 3
   },
   "file_extension": ".py",
   "mimetype": "text/x-python",
   "name": "python",
   "nbconvert_exporter": "python",
   "pygments_lexer": "ipython3",
   "version": "3.9.12"
  }
 },
 "nbformat": 4,
 "nbformat_minor": 5
}
