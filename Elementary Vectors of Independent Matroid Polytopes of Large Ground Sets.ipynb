{
 "cells": [
  {
   "cell_type": "code",
   "execution_count": 1,
   "id": "960dda1f",
   "metadata": {},
   "outputs": [],
   "source": [
    "import numpy as np\n",
    "import math\n",
    "import sympy\n",
    "from itertools import product, combinations\n",
    "import itertools\n",
    "import time"
   ]
  },
  {
   "cell_type": "code",
   "execution_count": 2,
   "id": "8144de77",
   "metadata": {},
   "outputs": [],
   "source": [
    "###construct matrix for matroid independent matroid polytope H-rep\n",
    "def construct_B_ind_mat(columns):\n",
    "    #lower bound (orientation stuff)\n",
    "    B = -1*np.identity(columns,dtype = int)\n",
    "\n",
    "    #other subset inequalities (related to rank function)\n",
    "    for k in range(1,columns+1):\n",
    "        x_combs = np.array([np.array([1 if i in comb else 0 for i in range(columns)],dtype = int) for comb in combinations(np.arange(columns), k)],dtype = int)\n",
    "        B = np.concatenate((B,x_combs), axis = 0)\n",
    "\n",
    "    return B;"
   ]
  },
  {
   "cell_type": "code",
   "execution_count": 3,
   "id": "e62a0a1e",
   "metadata": {},
   "outputs": [],
   "source": [
    "#####chase's naive alrogithm circuit code (https://github.com/charles-viss/circuits/blob/master/naive_algorithm.py)\n",
    "#naive approach for enumerating C(A,B)\n",
    "#Input: A_eq and B_ineq are (m_a x n) and (m x n) numpy arrays\n",
    "#Output: list of circuits (elementary vectors) in C(A,B) given by n-dimensional numpy arrays\n",
    "def enumerate_circuits(B_ineq, A_eq=None):\n",
    "    B = sympy.Matrix(B_ineq)\n",
    "    m,n = B.shape\n",
    "    r = 0\n",
    "    if A_eq is not None:\n",
    "        A = sympy.Matrix(A_eq)\n",
    "        A, pivot_columns = A.rref()    #use reduced echelon form of A\n",
    "        r = len(pivot_columns)         #r is the rank of A\n",
    "\n",
    "    circuits = []\n",
    "    pos_circs = []\n",
    "    for I in itertools.combinations(range(m),n-r-1):\n",
    "        B_I = B[I,:]\n",
    "        \n",
    "        if A_eq is not None:\n",
    "            D = A.col_join(B_I)\n",
    "        else:\n",
    "            D = B_I  \n",
    "            \n",
    "        ker_D = D.nullspace()\n",
    "        if len(ker_D) == 1:   #circuit direction is found iff null space of D is one-dimensional\n",
    "            g = np.array(ker_D[0]).flatten()\n",
    "            ###I think the .q implies the matrices need to come in integers/rationals? \n",
    "            ###It got upset when I had a float as an entry\n",
    "            g = g*sympy.lcm([g[i].q for i in range(n) if g[i] != 0]) #normalize to coprime integers\n",
    "            \n",
    "            g_is_duplicate = False\n",
    "            for y in circuits:\n",
    "                if np.array_equal(y, g):\n",
    "                    g_is_duplicate = True\n",
    "            if not g_is_duplicate:\n",
    "                circuits.append(g)\n",
    "                pos_circs.append(g)\n",
    "                circuits.append(-1*g)\n",
    "                \n",
    "    return (np.array(circuits),np.array(pos_circs))"
   ]
  },
  {
   "cell_type": "code",
   "execution_count": 4,
   "id": "181b16ad",
   "metadata": {},
   "outputs": [
    {
     "name": "stdout",
     "output_type": "stream",
     "text": [
      "Ground Set size:  5  Time to Compute: 328.2442982196808  seconds\n"
     ]
    },
    {
     "name": "stderr",
     "output_type": "stream",
     "text": [
      "\n",
      "KeyboardInterrupt\n",
      "\n"
     ]
    }
   ],
   "source": [
    "###i represents the size of the ground set\n",
    "for i in range(5,7):\n",
    "    start = time.time()\n",
    "    B_mat = construct_B_ind_mat(i)\n",
    "    ###all_circs includes the -1*g elementary vectors, while pos_circs are just g\n",
    "    all_circs, pos_circs = enumerate_circuits(B_mat)\n",
    "    end = time.time()\n",
    "    print('Ground Set size: ',i, ' Time to Compute:', end-start,' seconds')\n",
    "#     print(pos_circs)"
   ]
  },
  {
   "cell_type": "code",
   "execution_count": null,
   "id": "b2e6f42e",
   "metadata": {},
   "outputs": [],
   "source": []
  }
 ],
 "metadata": {
  "kernelspec": {
   "display_name": "Python 3 (ipykernel)",
   "language": "python",
   "name": "python3"
  },
  "language_info": {
   "codemirror_mode": {
    "name": "ipython",
    "version": 3
   },
   "file_extension": ".py",
   "mimetype": "text/x-python",
   "name": "python",
   "nbconvert_exporter": "python",
   "pygments_lexer": "ipython3",
   "version": "3.9.12"
  }
 },
 "nbformat": 4,
 "nbformat_minor": 5
}
