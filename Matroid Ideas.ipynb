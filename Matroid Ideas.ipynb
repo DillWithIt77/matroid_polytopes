{
 "cells": [
  {
   "cell_type": "markdown",
   "id": "2052c846",
   "metadata": {},
   "source": [
    "# Testing Matrix Builder"
   ]
  },
  {
   "cell_type": "code",
   "execution_count": 71,
   "id": "f51dca42",
   "metadata": {},
   "outputs": [],
   "source": [
    "import numpy as np\n",
    "import math\n",
    "import sympy\n",
    "from itertools import product, combinations\n",
    "import itertools"
   ]
  },
  {
   "cell_type": "markdown",
   "id": "7c3f97b2",
   "metadata": {},
   "source": [
    "### Buildling Matroid Polytopes"
   ]
  },
  {
   "cell_type": "code",
   "execution_count": 227,
   "id": "fac4ce93",
   "metadata": {},
   "outputs": [],
   "source": [
    "###construct matrix for matroid independent matroid polytope H-rep\n",
    "def construct_B_ind_mat(columns):\n",
    "    #lower bound (orientation stuff)\n",
    "    B = -1*np.identity(columns,dtype = int)\n",
    "\n",
    "    #other subset inequalities (related to rank function)\n",
    "    for k in range(1,columns+1):\n",
    "        x_combs = np.array([np.array([1 if i in comb else 0 for i in range(columns)],dtype = int) for comb in combinations(np.arange(columns), k)],dtype = int)\n",
    "        B = np.concatenate((B,x_combs), axis = 0)\n",
    "\n",
    "    return B;\n",
    "\n",
    "###probably wrong since need flat information first\n",
    "###construct matrix for matroid base matroid polytope H-rep\n",
    "def construct_B_base_mat(columns):\n",
    "    #lower bound (orientation stuff)\n",
    "    B = -1*np.identity(columns,dtype = int)\n",
    "    \n",
    "    #other subset inequalities (related to rank function)\n",
    "    for k in range(1,columns+1):\n",
    "        x_combs = np.array([np.array([1 if i in comb else 0 for i in range(columns)],dtype = int) for comb in combinations(np.arange(columns), k)],dtype = int)\n",
    "        B = np.concatenate((B,x_combs), axis = 0)\n",
    "\n",
    "    return B;\n",
    "\n",
    "def construct_A_base_mat(columns):\n",
    "    #basis constraint\n",
    "    A = np.ones((1,columns),dtype = int)\n",
    "\n",
    "    return A;"
   ]
  },
  {
   "cell_type": "markdown",
   "id": "03975581",
   "metadata": {},
   "source": [
    "### Naive Circuit Enumeration"
   ]
  },
  {
   "cell_type": "code",
   "execution_count": 252,
   "id": "9f985029",
   "metadata": {},
   "outputs": [],
   "source": [
    "#####chase's naive alrogithm circuit code\n",
    "#naive approach for enumerating C(A,B)\n",
    "#Input: A_eq and B_ineq are (m_a x n) and (m x n) numpy arrays\n",
    "#Output: list of circuits in C(A,B) given by n-dimensional numpy arrays\n",
    "def enumerate_circuits(B_ineq, A_eq=None):\n",
    "    B = sympy.Matrix(B_ineq)\n",
    "    m,n = B.shape\n",
    "    r = 0\n",
    "    if A_eq is not None:\n",
    "        A = sympy.Matrix(A_eq)\n",
    "        A, pivot_columns = A.rref()    #use reduced echelon form of A\n",
    "        r = len(pivot_columns)         #r is the rank of A\n",
    "\n",
    "    circuits = []\n",
    "    pos_circs = []\n",
    "    for I in itertools.combinations(range(m),n-r-1):\n",
    "        B_I = B[I,:]\n",
    "        \n",
    "        if A_eq is not None:\n",
    "            D = A.col_join(B_I)\n",
    "        else:\n",
    "            D = B_I  \n",
    "            \n",
    "        ker_D = D.nullspace()\n",
    "        if len(ker_D) == 1:   #circuit direction is found iff null space of D is one-dimensional\n",
    "#             print('B_I rows',B_I)\n",
    "            g = np.array(ker_D[0]).flatten()\n",
    "            ###I think the .q implies the matrices need to come in integers/rationals? \n",
    "            ###It got upset when I had a float as an entry\n",
    "            g = g*sympy.lcm([g[i].q for i in range(n) if g[i] != 0]) #normalize to coprime integers\n",
    "            \n",
    "            g_is_duplicate = False\n",
    "            for y in circuits:\n",
    "                if np.array_equal(y, g):\n",
    "                    g_is_duplicate = True\n",
    "            if not g_is_duplicate:\n",
    "                circuits.append(g)\n",
    "                pos_circs.append(g)\n",
    "#                 print('circuit being added',g)\n",
    "                ###commented out since don't necessarily care about having both directions\n",
    "                circuits.append(-1*g)\n",
    "                \n",
    "    return (np.array(circuits),np.array(pos_circs))"
   ]
  },
  {
   "cell_type": "markdown",
   "id": "1eb021d3",
   "metadata": {},
   "source": [
    "### Matroid Polytope Circuits (Small Examples)"
   ]
  },
  {
   "cell_type": "code",
   "execution_count": 254,
   "id": "56f6014c",
   "metadata": {},
   "outputs": [
    {
     "name": "stdout",
     "output_type": "stream",
     "text": [
      "[[0 0 0 1]\n",
      " [0 0 1 0]\n",
      " [0 0 -1 1]\n",
      " [0 1 0 0]\n",
      " [0 -1 0 1]\n",
      " [0 -1 1 0]\n",
      " [0 -1 1 1]\n",
      " [0 1 -1 1]\n",
      " [0 -1 -1 1]\n",
      " [1 0 0 0]\n",
      " [-1 0 0 1]\n",
      " [-1 0 1 0]\n",
      " [-1 0 1 1]\n",
      " [1 0 -1 1]\n",
      " [-1 0 -1 1]\n",
      " [-1 1 0 0]\n",
      " [-1 1 0 1]\n",
      " [1 -1 0 1]\n",
      " [-1 -1 0 1]\n",
      " [-1 1 1 0]\n",
      " [1 -1 1 0]\n",
      " [-1 -1 1 0]\n",
      " [-1 1 1 1]\n",
      " [1 -1 -1 1]\n",
      " [1 -1 -1 2]\n",
      " [-1 1 -1 1]\n",
      " [-1 1 -2 1]\n",
      " [1 -1 1 1]\n",
      " [-1 1 -1 2]\n",
      " [1 -1 -2 1]\n",
      " [-1 -1 1 1]\n",
      " [-1 -2 1 1]\n",
      " [1 1 -1 1]\n",
      " [-1 -1 1 2]\n",
      " [1 -2 -1 1]\n",
      " [-1 -1 -1 1]\n",
      " [-1 -1 2 1]\n",
      " [-1 2 -1 1]\n",
      " [-2 -1 1 1]\n",
      " [-2 1 -1 1]\n",
      " [2 -1 -1 1]\n",
      " [-2 1 1 1]\n",
      " [1 -2 1 1]\n",
      " [1 1 -2 1]\n",
      " [-1 -1 -1 2]]\n"
     ]
    }
   ],
   "source": [
    "###indepdent matroid poly\n",
    "columns = 4\n",
    "B = construct_B_ind_mat(columns)\n",
    "all_circuits, init_circuits = enumerate_circuits(B)\n",
    "print(init_circuits)"
   ]
  },
  {
   "cell_type": "code",
   "execution_count": 255,
   "id": "72f88bfe",
   "metadata": {},
   "outputs": [
    {
     "name": "stdout",
     "output_type": "stream",
     "text": [
      "[[0 0 -1 1]\n",
      " [0 -1 0 1]\n",
      " [0 -1 1 0]\n",
      " [-1 0 0 1]\n",
      " [-1 0 1 0]\n",
      " [-1 1 0 0]\n",
      " [1 -1 -1 1]\n",
      " [-1 1 -1 1]\n",
      " [-1 -1 1 1]]\n"
     ]
    }
   ],
   "source": [
    "###currently incorrect since flat inequalities are wrong\n",
    "###base matroid poly\n",
    "columns = 4\n",
    "B = construct_B_base_mat(columns)\n",
    "# print(B)\n",
    "A = construct_A_base_mat(columns)\n",
    "all_circuits, init_circuits = enumerate_circuits(B,A)\n",
    "print(init_circuits)"
   ]
  },
  {
   "cell_type": "code",
   "execution_count": 247,
   "id": "dd2f14d9",
   "metadata": {},
   "outputs": [
    {
     "name": "stdout",
     "output_type": "stream",
     "text": [
      "4\n"
     ]
    }
   ],
   "source": [
    "test = np.array([[1,1,0,0],[1,0,1,0],[1,0,0,1],[0,1,1,0]])\n",
    "test = sympy.Matrix(test)\n",
    "test, pivot_columns = test.rref()    #use reduced echelon form of A\n",
    "r = len(pivot_columns)    \n",
    "print(r)"
   ]
  }
 ],
 "metadata": {
  "kernelspec": {
   "display_name": "Python 3 (ipykernel)",
   "language": "python",
   "name": "python3"
  },
  "language_info": {
   "codemirror_mode": {
    "name": "ipython",
    "version": 3
   },
   "file_extension": ".py",
   "mimetype": "text/x-python",
   "name": "python",
   "nbconvert_exporter": "python",
   "pygments_lexer": "ipython3",
   "version": "3.9.12"
  }
 },
 "nbformat": 4,
 "nbformat_minor": 5
}
