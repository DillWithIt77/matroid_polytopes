{
 "cells": [
  {
   "cell_type": "markdown",
   "id": "af8146ce",
   "metadata": {},
   "source": [
    "# Worked out Examples from Report"
   ]
  },
  {
   "cell_type": "markdown",
   "id": "a2e7ad94",
   "metadata": {},
   "source": [
    "##### Imports"
   ]
  },
  {
   "cell_type": "code",
   "execution_count": 1,
   "id": "b0984c4a",
   "metadata": {},
   "outputs": [],
   "source": [
    "import numpy as np\n",
    "import math\n",
    "import sympy\n",
    "from itertools import product, combinations\n",
    "import itertools"
   ]
  },
  {
   "cell_type": "markdown",
   "id": "6350ea8b",
   "metadata": {},
   "source": [
    "##### Build Polytope Description"
   ]
  },
  {
   "cell_type": "code",
   "execution_count": 2,
   "id": "0535eeaf",
   "metadata": {},
   "outputs": [],
   "source": [
    "###construct matrix for matroid independent matroid polytope H-rep\n",
    "def construct_B_ind_mat(columns):\n",
    "    #lower bound (orientation stuff)\n",
    "    B = -1*np.identity(columns,dtype = int)\n",
    "\n",
    "    #other subset inequalities (related to rank function)\n",
    "    for k in range(1,columns+1):\n",
    "        x_combs = np.array([np.array([1 if i in comb else 0 for i in range(columns)],dtype = int) for comb in combinations(np.arange(columns), k)],dtype = int)\n",
    "        B = np.concatenate((B,x_combs), axis = 0)\n",
    "\n",
    "    return B;\n",
    "\n",
    "###construct matrix for matroid base matroid polytope H-rep\n",
    "###currently incorrect, so needs some work\n",
    "def construct_B_base_mat(columns):\n",
    "    #lower bound (orientation stuff)\n",
    "    B = -1*np.identity(columns,dtype = int)\n",
    "    \n",
    "    #other subset inequalities (related to rank function)\n",
    "    for k in range(1,columns+1):\n",
    "        x_combs = np.array([np.array([1 if i in comb else 0 for i in range(columns)],dtype = int) for comb in combinations(np.arange(columns), k)],dtype = int)\n",
    "        B = np.concatenate((B,x_combs), axis = 0)\n",
    "\n",
    "    return B;\n",
    "\n",
    "def construct_A_base_mat(columns):\n",
    "    #basis constraint\n",
    "    A = np.ones((1,columns),dtype = int)\n",
    "\n",
    "    return A;"
   ]
  },
  {
   "cell_type": "markdown",
   "id": "221c0ba1",
   "metadata": {},
   "source": [
    "##### Naive Circuit Enumeration"
   ]
  },
  {
   "cell_type": "code",
   "execution_count": 3,
   "id": "477a55af",
   "metadata": {},
   "outputs": [],
   "source": [
    "#####chase's naive alrogithm circuit code (https://github.com/charles-viss/circuits/blob/master/naive_algorithm.py)\n",
    "#naive approach for enumerating C(A,B)\n",
    "#Input: A_eq and B_ineq are (m_a x n) and (m x n) numpy arrays\n",
    "#Output: list of circuits (elementary vectors) in C(A,B) given by n-dimensional numpy arrays\n",
    "def enumerate_circuits(B_ineq, A_eq=None):\n",
    "    B = sympy.Matrix(B_ineq)\n",
    "    m,n = B.shape\n",
    "    r = 0\n",
    "    if A_eq is not None:\n",
    "        A = sympy.Matrix(A_eq)\n",
    "        A, pivot_columns = A.rref()    #use reduced echelon form of A\n",
    "        r = len(pivot_columns)         #r is the rank of A\n",
    "\n",
    "    circuits = []\n",
    "    pos_circs = []\n",
    "    for I in itertools.combinations(range(m),n-r-1):\n",
    "        B_I = B[I,:]\n",
    "        \n",
    "        if A_eq is not None:\n",
    "            D = A.col_join(B_I)\n",
    "        else:\n",
    "            D = B_I  \n",
    "            \n",
    "        ker_D = D.nullspace()\n",
    "        if len(ker_D) == 1:   #circuit direction is found iff null space of D is one-dimensional\n",
    "            g = np.array(ker_D[0]).flatten()\n",
    "            ###I think the .q implies the matrices need to come in integers/rationals? \n",
    "            ###It got upset when I had a float as an entry\n",
    "            g = g*sympy.lcm([g[i].q for i in range(n) if g[i] != 0]) #normalize to coprime integers\n",
    "            \n",
    "            g_is_duplicate = False\n",
    "            for y in circuits:\n",
    "                if np.array_equal(y, g):\n",
    "                    g_is_duplicate = True\n",
    "            if not g_is_duplicate:\n",
    "                circuits.append(g)\n",
    "                pos_circs.append(g)\n",
    "                circuits.append(-1*g)\n",
    "                \n",
    "    return (np.array(circuits),np.array(pos_circs))"
   ]
  },
  {
   "cell_type": "code",
   "execution_count": 5,
   "id": "0b9cdef2",
   "metadata": {},
   "outputs": [
    {
     "name": "stdout",
     "output_type": "stream",
     "text": [
      "[[0 0 1]\n",
      " [0 1 0]\n",
      " [0 -1 1]\n",
      " [1 0 0]\n",
      " [-1 0 1]\n",
      " [-1 1 0]\n",
      " [-1 1 1]\n",
      " [1 -1 1]\n",
      " [-1 -1 1]]\n"
     ]
    }
   ],
   "source": [
    "arcs = 6\n",
    "B_mat = construct_B_ind_mat(arcs)\n",
    "###all_circs includes the -1*g elementary vectors, while pos_circs are just g\n",
    "all_circs, pos_circs = enumerate_circuits(B_mat)\n",
    "print(pos_circs)"
   ]
  }
 ],
 "metadata": {
  "kernelspec": {
   "display_name": "Python 3 (ipykernel)",
   "language": "python",
   "name": "python3"
  },
  "language_info": {
   "codemirror_mode": {
    "name": "ipython",
    "version": 3
   },
   "file_extension": ".py",
   "mimetype": "text/x-python",
   "name": "python",
   "nbconvert_exporter": "python",
   "pygments_lexer": "ipython3",
   "version": "3.9.12"
  }
 },
 "nbformat": 4,
 "nbformat_minor": 5
}
